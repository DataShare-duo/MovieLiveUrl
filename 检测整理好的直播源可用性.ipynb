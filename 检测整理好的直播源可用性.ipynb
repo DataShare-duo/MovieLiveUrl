{
 "cells": [
  {
   "cell_type": "code",
   "execution_count": 1,
   "id": "46645b1a",
   "metadata": {
    "ExecuteTime": {
     "end_time": "2024-01-29T13:45:23.463771Z",
     "start_time": "2024-01-29T13:45:20.861196Z"
    }
   },
   "outputs": [],
   "source": [
    "import requests\n",
    "import pandas as pd\n",
    "\n",
    "#显示所有列\n",
    "pd.set_option('display.max_columns', None)\n",
    "#设置value的显示长度为100，默认为50\n",
    "pd.set_option('max_colwidth',100)"
   ]
  },
  {
   "cell_type": "code",
   "execution_count": 2,
   "id": "72810aff",
   "metadata": {
    "ExecuteTime": {
     "end_time": "2024-01-29T13:45:34.281636Z",
     "start_time": "2024-01-29T13:45:34.271663Z"
    }
   },
   "outputs": [],
   "source": [
    "def requests_live(url:str):\n",
    "    try:\n",
    "        response_url=requests.get(url,timeout=5)\n",
    "        if response_url.status_code==200:\n",
    "            return True\n",
    "        else:\n",
    "            return False\n",
    "    except:\n",
    "        return False"
   ]
  },
  {
   "cell_type": "code",
   "execution_count": 3,
   "id": "b3030336",
   "metadata": {
    "ExecuteTime": {
     "end_time": "2024-01-29T13:46:05.701155Z",
     "start_time": "2024-01-29T13:46:04.878583Z"
    }
   },
   "outputs": [],
   "source": [
    "data=pd.read_excel('直播.xlsx',sheet_name='频道源')"
   ]
  },
  {
   "cell_type": "code",
   "execution_count": 4,
   "id": "28920c6c",
   "metadata": {
    "ExecuteTime": {
     "end_time": "2024-01-29T13:46:08.897410Z",
     "start_time": "2024-01-29T13:46:08.878446Z"
    }
   },
   "outputs": [
    {
     "data": {
      "text/plain": [
       "501"
      ]
     },
     "execution_count": 4,
     "metadata": {},
     "output_type": "execute_result"
    }
   ],
   "source": [
    "len(data)"
   ]
  },
  {
   "cell_type": "code",
   "execution_count": 5,
   "id": "9a9249eb",
   "metadata": {
    "ExecuteTime": {
     "end_time": "2024-01-29T13:58:46.949085Z",
     "start_time": "2024-01-29T13:47:12.707032Z"
    }
   },
   "outputs": [],
   "source": [
    "data['is_available']=data['频道地址'].map(requests_live)"
   ]
  },
  {
   "cell_type": "code",
   "execution_count": 6,
   "id": "ad23be86",
   "metadata": {
    "ExecuteTime": {
     "end_time": "2024-01-29T13:59:31.763724Z",
     "start_time": "2024-01-29T13:59:31.584117Z"
    }
   },
   "outputs": [],
   "source": [
    "data.to_excel(\"直播-测试可用性.xlsx\")"
   ]
  },
  {
   "cell_type": "code",
   "execution_count": null,
   "id": "0313ad47",
   "metadata": {},
   "outputs": [],
   "source": []
  }
 ],
 "metadata": {
  "kernelspec": {
   "display_name": "Python 3 (ipykernel)",
   "language": "python",
   "name": "python3"
  },
  "language_info": {
   "codemirror_mode": {
    "name": "ipython",
    "version": 3
   },
   "file_extension": ".py",
   "mimetype": "text/x-python",
   "name": "python",
   "nbconvert_exporter": "python",
   "pygments_lexer": "ipython3",
   "version": "3.9.7"
  },
  "toc": {
   "base_numbering": 1,
   "nav_menu": {},
   "number_sections": true,
   "sideBar": true,
   "skip_h1_title": false,
   "title_cell": "Table of Contents",
   "title_sidebar": "Contents",
   "toc_cell": false,
   "toc_position": {},
   "toc_section_display": true,
   "toc_window_display": false
  }
 },
 "nbformat": 4,
 "nbformat_minor": 5
}
