{
 "cells": [
  {
   "cell_type": "markdown",
   "id": "65da378b",
   "metadata": {},
   "source": [
    "# 线程同步"
   ]
  },
  {
   "cell_type": "code",
   "execution_count": null,
   "id": "072af319",
   "metadata": {
    "ExecuteTime": {
     "end_time": "2023-11-26T06:21:33.589725Z",
     "start_time": "2023-11-26T06:21:33.434380Z"
    }
   },
   "outputs": [],
   "source": [
    "import requests"
   ]
  },
  {
   "cell_type": "code",
   "execution_count": null,
   "id": "3b7b5b07",
   "metadata": {
    "ExecuteTime": {
     "end_time": "2023-11-26T06:21:46.612355Z",
     "start_time": "2023-11-26T06:21:46.596397Z"
    }
   },
   "outputs": [],
   "source": [
    "def requests_live(url:str):\n",
    "    try:\n",
    "        response_url=requests.get(url,timeout=5)\n",
    "        if response_url.status_code==200:\n",
    "            return True\n",
    "        else:\n",
    "            return False\n",
    "    except:\n",
    "        return False"
   ]
  },
  {
   "cell_type": "code",
   "execution_count": null,
   "id": "012b1b84",
   "metadata": {
    "ExecuteTime": {
     "end_time": "2023-11-26T06:22:19.847043Z",
     "start_time": "2023-11-26T06:22:19.841039Z"
    }
   },
   "outputs": [],
   "source": [
    "ips=['39.134.24.162','39.134.24.161','39.134.24.166']"
   ]
  },
  {
   "cell_type": "markdown",
   "id": "e00779ca",
   "metadata": {
    "ExecuteTime": {
     "end_time": "2023-11-26T06:22:37.386534Z",
     "start_time": "2023-11-26T06:22:37.378512Z"
    }
   },
   "source": [
    "http://39.134.24.162/dbiptv.sn.chinamobile.com/PLTV/88888890/224/3221225804/index.m3u8"
   ]
  },
  {
   "cell_type": "code",
   "execution_count": null,
   "id": "19eaec4b",
   "metadata": {
    "ExecuteTime": {
     "start_time": "2023-11-26T06:32:25.608Z"
    }
   },
   "outputs": [],
   "source": [
    "for i in range(1,10000):\n",
    "    for ip in ips:\n",
    "        url=f\"http://{ip}/dbiptv.sn.chinamobile.com/PLTV/88888890/224/322122{i:04}/index.m3u8\"\n",
    "        if requests_live(url):\n",
    "            print(url)"
   ]
  },
  {
   "cell_type": "markdown",
   "id": "1fed2f7f",
   "metadata": {},
   "source": [
    "# 异步协程"
   ]
  },
  {
   "cell_type": "code",
   "execution_count": 1,
   "id": "c9c40e10",
   "metadata": {
    "ExecuteTime": {
     "end_time": "2023-11-26T07:20:45.187119Z",
     "start_time": "2023-11-26T07:20:45.052414Z"
    }
   },
   "outputs": [],
   "source": [
    "import asyncio\n",
    "import aiohttp"
   ]
  },
  {
   "cell_type": "code",
   "execution_count": 2,
   "id": "44f24652",
   "metadata": {
    "ExecuteTime": {
     "end_time": "2023-11-26T07:20:45.498270Z",
     "start_time": "2023-11-26T07:20:45.474694Z"
    }
   },
   "outputs": [],
   "source": [
    "timeout = aiohttp.ClientTimeout(total=5)\n",
    "\n",
    "async def async_get_url(url,sem):\n",
    "    async with sem:\n",
    "        async with aiohttp.ClientSession() as session:\n",
    "            try:\n",
    "                async with session.get(url,timeout=timeout) as r:\n",
    "                    if await r.status==200:\n",
    "                        print(url)\n",
    "            except:\n",
    "                pass"
   ]
  },
  {
   "cell_type": "code",
   "execution_count": 3,
   "id": "129f288a",
   "metadata": {
    "ExecuteTime": {
     "end_time": "2023-11-26T07:20:46.414575Z",
     "start_time": "2023-11-26T07:20:46.383401Z"
    }
   },
   "outputs": [],
   "source": [
    "ips=['39.134.24.162','39.134.24.161','39.134.24.166']\n",
    "urls=[]\n",
    "for i in range(1,10000):\n",
    "    for ip in ips:\n",
    "        url=f\"http://{ip}/dbiptv.sn.chinamobile.com/PLTV/88888890/224/322122{i:04}/index.m3u8\"\n",
    "        \n",
    "        urls.append(url)"
   ]
  },
  {
   "cell_type": "code",
   "execution_count": 4,
   "id": "a1254641",
   "metadata": {
    "ExecuteTime": {
     "end_time": "2023-11-26T07:20:47.272289Z",
     "start_time": "2023-11-26T07:20:47.247934Z"
    }
   },
   "outputs": [
    {
     "data": {
      "text/plain": [
       "29997"
      ]
     },
     "execution_count": 4,
     "metadata": {},
     "output_type": "execute_result"
    }
   ],
   "source": [
    "len(urls)"
   ]
  },
  {
   "cell_type": "code",
   "execution_count": 6,
   "id": "47820561",
   "metadata": {
    "ExecuteTime": {
     "end_time": "2023-11-26T07:22:28.840132Z",
     "start_time": "2023-11-26T07:22:28.835684Z"
    }
   },
   "outputs": [],
   "source": [
    "sem = asyncio.Semaphore(300)   #协程并发任务量"
   ]
  },
  {
   "cell_type": "code",
   "execution_count": 7,
   "id": "fc6ce11a",
   "metadata": {
    "ExecuteTime": {
     "end_time": "2023-11-26T07:23:03.088592Z",
     "start_time": "2023-11-26T07:23:03.083515Z"
    }
   },
   "outputs": [],
   "source": [
    "url='http://39.134.24.162/dbiptv.sn.chinamobile.com/PLTV/88888890/224/3221226195/index.m3u8'"
   ]
  },
  {
   "cell_type": "code",
   "execution_count": 9,
   "id": "3cc17988",
   "metadata": {
    "ExecuteTime": {
     "end_time": "2023-11-26T07:23:33.769897Z",
     "start_time": "2023-11-26T07:23:33.763818Z"
    }
   },
   "outputs": [],
   "source": [
    "tasks=[async_get_url(url,sem)]"
   ]
  },
  {
   "cell_type": "code",
   "execution_count": 10,
   "id": "c76a993b",
   "metadata": {
    "ExecuteTime": {
     "end_time": "2023-11-26T07:23:45.059114Z",
     "start_time": "2023-11-26T07:23:45.051697Z"
    }
   },
   "outputs": [
    {
     "data": {
      "text/plain": [
       "<coroutine object wait at 0x0000020966325540>"
      ]
     },
     "execution_count": 10,
     "metadata": {},
     "output_type": "execute_result"
    }
   ],
   "source": [
    "asyncio.wait(tasks)"
   ]
  },
  {
   "cell_type": "code",
   "execution_count": null,
   "id": "95d6a38d",
   "metadata": {},
   "outputs": [],
   "source": []
  },
  {
   "cell_type": "code",
   "execution_count": 5,
   "id": "0a9968e0",
   "metadata": {
    "ExecuteTime": {
     "end_time": "2023-11-26T07:20:48.214184Z",
     "start_time": "2023-11-26T07:20:47.842823Z"
    }
   },
   "outputs": [
    {
     "ename": "RuntimeError",
     "evalue": "This event loop is already running",
     "output_type": "error",
     "traceback": [
      "\u001b[1;31m---------------------------------------------------------------------------\u001b[0m",
      "\u001b[1;31mRuntimeError\u001b[0m                              Traceback (most recent call last)",
      "\u001b[1;32mC:\\Users\\ADMINI~1.BJ1\\AppData\\Local\\Temp/ipykernel_13836/3536471847.py\u001b[0m in \u001b[0;36m<module>\u001b[1;34m\u001b[0m\n\u001b[0;32m      2\u001b[0m \u001b[0mtasks\u001b[0m \u001b[1;33m=\u001b[0m \u001b[1;33m[\u001b[0m\u001b[0masync_get_url\u001b[0m\u001b[1;33m(\u001b[0m\u001b[0murl\u001b[0m\u001b[1;33m,\u001b[0m\u001b[0msem\u001b[0m\u001b[1;33m)\u001b[0m \u001b[1;32mfor\u001b[0m \u001b[0murl\u001b[0m \u001b[1;32min\u001b[0m \u001b[0murls\u001b[0m\u001b[1;33m]\u001b[0m\u001b[1;33m\u001b[0m\u001b[1;33m\u001b[0m\u001b[0m\n\u001b[0;32m      3\u001b[0m \u001b[0mloop\u001b[0m \u001b[1;33m=\u001b[0m \u001b[0masyncio\u001b[0m\u001b[1;33m.\u001b[0m\u001b[0mget_event_loop\u001b[0m\u001b[1;33m(\u001b[0m\u001b[1;33m)\u001b[0m\u001b[1;33m\u001b[0m\u001b[1;33m\u001b[0m\u001b[0m\n\u001b[1;32m----> 4\u001b[1;33m \u001b[0mloop\u001b[0m\u001b[1;33m.\u001b[0m\u001b[0mrun_until_complete\u001b[0m\u001b[1;33m(\u001b[0m\u001b[0masyncio\u001b[0m\u001b[1;33m.\u001b[0m\u001b[0mwait\u001b[0m\u001b[1;33m(\u001b[0m\u001b[0mtasks\u001b[0m\u001b[1;33m)\u001b[0m\u001b[1;33m)\u001b[0m\u001b[1;33m\u001b[0m\u001b[1;33m\u001b[0m\u001b[0m\n\u001b[0m\u001b[0;32m      5\u001b[0m \u001b[0mloop\u001b[0m\u001b[1;33m.\u001b[0m\u001b[0mclose\u001b[0m\u001b[1;33m(\u001b[0m\u001b[1;33m)\u001b[0m\u001b[1;33m\u001b[0m\u001b[1;33m\u001b[0m\u001b[0m\n",
      "\u001b[1;32mD:\\ProgramData\\Anaconda3\\lib\\asyncio\\base_events.py\u001b[0m in \u001b[0;36mrun_until_complete\u001b[1;34m(self, future)\u001b[0m\n\u001b[0;32m    616\u001b[0m         \"\"\"\n\u001b[0;32m    617\u001b[0m         \u001b[0mself\u001b[0m\u001b[1;33m.\u001b[0m\u001b[0m_check_closed\u001b[0m\u001b[1;33m(\u001b[0m\u001b[1;33m)\u001b[0m\u001b[1;33m\u001b[0m\u001b[1;33m\u001b[0m\u001b[0m\n\u001b[1;32m--> 618\u001b[1;33m         \u001b[0mself\u001b[0m\u001b[1;33m.\u001b[0m\u001b[0m_check_running\u001b[0m\u001b[1;33m(\u001b[0m\u001b[1;33m)\u001b[0m\u001b[1;33m\u001b[0m\u001b[1;33m\u001b[0m\u001b[0m\n\u001b[0m\u001b[0;32m    619\u001b[0m \u001b[1;33m\u001b[0m\u001b[0m\n\u001b[0;32m    620\u001b[0m         \u001b[0mnew_task\u001b[0m \u001b[1;33m=\u001b[0m \u001b[1;32mnot\u001b[0m \u001b[0mfutures\u001b[0m\u001b[1;33m.\u001b[0m\u001b[0misfuture\u001b[0m\u001b[1;33m(\u001b[0m\u001b[0mfuture\u001b[0m\u001b[1;33m)\u001b[0m\u001b[1;33m\u001b[0m\u001b[1;33m\u001b[0m\u001b[0m\n",
      "\u001b[1;32mD:\\ProgramData\\Anaconda3\\lib\\asyncio\\base_events.py\u001b[0m in \u001b[0;36m_check_running\u001b[1;34m(self)\u001b[0m\n\u001b[0;32m    576\u001b[0m     \u001b[1;32mdef\u001b[0m \u001b[0m_check_running\u001b[0m\u001b[1;33m(\u001b[0m\u001b[0mself\u001b[0m\u001b[1;33m)\u001b[0m\u001b[1;33m:\u001b[0m\u001b[1;33m\u001b[0m\u001b[1;33m\u001b[0m\u001b[0m\n\u001b[0;32m    577\u001b[0m         \u001b[1;32mif\u001b[0m \u001b[0mself\u001b[0m\u001b[1;33m.\u001b[0m\u001b[0mis_running\u001b[0m\u001b[1;33m(\u001b[0m\u001b[1;33m)\u001b[0m\u001b[1;33m:\u001b[0m\u001b[1;33m\u001b[0m\u001b[1;33m\u001b[0m\u001b[0m\n\u001b[1;32m--> 578\u001b[1;33m             \u001b[1;32mraise\u001b[0m \u001b[0mRuntimeError\u001b[0m\u001b[1;33m(\u001b[0m\u001b[1;34m'This event loop is already running'\u001b[0m\u001b[1;33m)\u001b[0m\u001b[1;33m\u001b[0m\u001b[1;33m\u001b[0m\u001b[0m\n\u001b[0m\u001b[0;32m    579\u001b[0m         \u001b[1;32mif\u001b[0m \u001b[0mevents\u001b[0m\u001b[1;33m.\u001b[0m\u001b[0m_get_running_loop\u001b[0m\u001b[1;33m(\u001b[0m\u001b[1;33m)\u001b[0m \u001b[1;32mis\u001b[0m \u001b[1;32mnot\u001b[0m \u001b[1;32mNone\u001b[0m\u001b[1;33m:\u001b[0m\u001b[1;33m\u001b[0m\u001b[1;33m\u001b[0m\u001b[0m\n\u001b[0;32m    580\u001b[0m             raise RuntimeError(\n",
      "\u001b[1;31mRuntimeError\u001b[0m: This event loop is already running"
     ]
    }
   ],
   "source": [
    "tasks = [async_get_url(url,sem) for url in urls]\n",
    "loop = asyncio.get_event_loop()\n",
    "loop.run_until_complete(asyncio.wait(tasks))\n",
    "loop.close()"
   ]
  },
  {
   "cell_type": "code",
   "execution_count": null,
   "id": "89fef329",
   "metadata": {},
   "outputs": [],
   "source": []
  }
 ],
 "metadata": {
  "kernelspec": {
   "display_name": "Python 3 (ipykernel)",
   "language": "python",
   "name": "python3"
  },
  "language_info": {
   "codemirror_mode": {
    "name": "ipython",
    "version": 3
   },
   "file_extension": ".py",
   "mimetype": "text/x-python",
   "name": "python",
   "nbconvert_exporter": "python",
   "pygments_lexer": "ipython3",
   "version": "3.9.7"
  },
  "toc": {
   "base_numbering": 1,
   "nav_menu": {},
   "number_sections": true,
   "sideBar": true,
   "skip_h1_title": false,
   "title_cell": "Table of Contents",
   "title_sidebar": "Contents",
   "toc_cell": false,
   "toc_position": {
    "height": "calc(100% - 180px)",
    "left": "10px",
    "top": "150px",
    "width": "301.425px"
   },
   "toc_section_display": true,
   "toc_window_display": true
  }
 },
 "nbformat": 4,
 "nbformat_minor": 5
}
