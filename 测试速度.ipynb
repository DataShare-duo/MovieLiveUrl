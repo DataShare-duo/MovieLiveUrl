{
 "cells": [
  {
   "cell_type": "code",
   "execution_count": 1,
   "id": "c7b2a96e-f5a2-4d6e-ba43-1c0168347859",
   "metadata": {},
   "outputs": [],
   "source": [
    "import requests\n",
    "import time\n",
    "import m3u8\n",
    "from urllib.parse import urljoin, urlparse"
   ]
  },
  {
   "cell_type": "code",
   "execution_count": 2,
   "id": "2780015e-cd05-4fcb-bd96-281a9c72cb3e",
   "metadata": {},
   "outputs": [],
   "source": [
    "m3u8_url='http://123.54.220.216:9901/tsfile/live/1045_1.m3u8?key=txiptv&playlive=1&authid=0'"
   ]
  },
  {
   "cell_type": "code",
   "execution_count": 3,
   "id": "f78d9f30-d665-4bd5-9a48-92d776e0cb97",
   "metadata": {},
   "outputs": [],
   "source": [
    "playlist = m3u8.load(m3u8_url)"
   ]
  },
  {
   "cell_type": "code",
   "execution_count": 4,
   "id": "9bce5702-dde2-4cb9-94a8-30c0b43f950d",
   "metadata": {},
   "outputs": [
    {
     "data": {
      "text/plain": [
       "m3u8.model.M3U8"
      ]
     },
     "execution_count": 4,
     "metadata": {},
     "output_type": "execute_result"
    }
   ],
   "source": [
    "type(playlist)"
   ]
  },
  {
   "cell_type": "code",
   "execution_count": 5,
   "id": "98b0f61c-a791-4176-8ef4-de875c63d549",
   "metadata": {},
   "outputs": [
    {
     "data": {
      "text/plain": [
       "<m3u8.model.M3U8 at 0x1a1559cbed0>"
      ]
     },
     "execution_count": 5,
     "metadata": {},
     "output_type": "execute_result"
    }
   ],
   "source": [
    "playlist"
   ]
  },
  {
   "cell_type": "code",
   "execution_count": 6,
   "id": "4a4d6fdd-062e-4491-b546-67ace5eda7bc",
   "metadata": {},
   "outputs": [],
   "source": [
    "segments = playlist.segments"
   ]
  },
  {
   "cell_type": "code",
   "execution_count": 7,
   "id": "d2a5e5a1-02e8-4a32-b92b-9c5423ed1d5b",
   "metadata": {},
   "outputs": [
    {
     "data": {
      "text/plain": [
       "[<m3u8.model.Segment at 0x1a155a86c90>,\n",
       " <m3u8.model.Segment at 0x1a155a58610>,\n",
       " <m3u8.model.Segment at 0x1a155a586d0>,\n",
       " <m3u8.model.Segment at 0x1a155d68850>,\n",
       " <m3u8.model.Segment at 0x1a155d688d0>]"
      ]
     },
     "execution_count": 7,
     "metadata": {},
     "output_type": "execute_result"
    }
   ],
   "source": [
    "segments"
   ]
  },
  {
   "cell_type": "code",
   "execution_count": 8,
   "id": "8f792cc1-fe77-4a4e-af2f-d2d9f9584e4f",
   "metadata": {},
   "outputs": [],
   "source": [
    "parsed_uri = urlparse(m3u8_url)"
   ]
  },
  {
   "cell_type": "code",
   "execution_count": 9,
   "id": "c04434db-1564-4b94-85de-dc76455ea5e3",
   "metadata": {},
   "outputs": [
    {
     "data": {
      "text/plain": [
       "ParseResult(scheme='http', netloc='123.54.220.216:9901', path='/tsfile/live/1045_1.m3u8', params='', query='key=txiptv&playlive=1&authid=0', fragment='')"
      ]
     },
     "execution_count": 9,
     "metadata": {},
     "output_type": "execute_result"
    }
   ],
   "source": [
    "parsed_uri"
   ]
  },
  {
   "cell_type": "code",
   "execution_count": 10,
   "id": "7d725644-90b9-4da4-8e2c-864efb573920",
   "metadata": {},
   "outputs": [],
   "source": [
    "base_uri = f\"{parsed_uri.scheme}://{parsed_uri.netloc}\""
   ]
  },
  {
   "cell_type": "code",
   "execution_count": 11,
   "id": "22e9755d-b763-41aa-a7b5-665e7e939075",
   "metadata": {},
   "outputs": [
    {
     "data": {
      "text/plain": [
       "'http://123.54.220.216:9901'"
      ]
     },
     "execution_count": 11,
     "metadata": {},
     "output_type": "execute_result"
    }
   ],
   "source": [
    "base_uri"
   ]
  },
  {
   "cell_type": "code",
   "execution_count": 12,
   "id": "eacda804-3e01-44ad-ae37-0e63f2c8b68c",
   "metadata": {},
   "outputs": [
    {
     "data": {
      "text/plain": [
       "5"
      ]
     },
     "execution_count": 12,
     "metadata": {},
     "output_type": "execute_result"
    }
   ],
   "source": [
    "len(segments)"
   ]
  },
  {
   "cell_type": "code",
   "execution_count": 13,
   "id": "716f6974-2a03-40e6-8f03-e58f0cb6b6f0",
   "metadata": {},
   "outputs": [],
   "source": [
    "segment = segments[1 % len(segments)]"
   ]
  },
  {
   "cell_type": "code",
   "execution_count": 14,
   "id": "d809681c-e070-407a-9696-07c2df2a31ac",
   "metadata": {},
   "outputs": [
    {
     "data": {
      "text/plain": [
       "<m3u8.model.Segment at 0x1a155a58610>"
      ]
     },
     "execution_count": 14,
     "metadata": {},
     "output_type": "execute_result"
    }
   ],
   "source": [
    "segment"
   ]
  },
  {
   "cell_type": "code",
   "execution_count": 15,
   "id": "920c8461-30f2-47f8-9a20-b2efc3ba2252",
   "metadata": {},
   "outputs": [
    {
     "data": {
      "text/plain": [
       "<m3u8.model.Segment at 0x1a155a58610>"
      ]
     },
     "execution_count": 15,
     "metadata": {},
     "output_type": "execute_result"
    }
   ],
   "source": [
    "segment"
   ]
  },
  {
   "cell_type": "code",
   "execution_count": 16,
   "id": "d244fbaf-c564-440b-a973-dae97c1736d0",
   "metadata": {},
   "outputs": [],
   "source": [
    "segment_uri = segment.uri"
   ]
  },
  {
   "cell_type": "code",
   "execution_count": 17,
   "id": "68281241-c721-4648-96a4-c1c37bfe8c21",
   "metadata": {},
   "outputs": [
    {
     "data": {
      "text/plain": [
       "'live_1045_1_40085613.ts?key=txiptv&key2=40085613'"
      ]
     },
     "execution_count": 17,
     "metadata": {},
     "output_type": "execute_result"
    }
   ],
   "source": [
    "segment_uri"
   ]
  },
  {
   "cell_type": "code",
   "execution_count": 18,
   "id": "ad8797ee-74ba-4624-b5fe-3183cf76996e",
   "metadata": {},
   "outputs": [
    {
     "data": {
      "text/plain": [
       "False"
      ]
     },
     "execution_count": 18,
     "metadata": {},
     "output_type": "execute_result"
    }
   ],
   "source": [
    "segment_uri.startswith('http')"
   ]
  },
  {
   "cell_type": "code",
   "execution_count": 19,
   "id": "58e74748-2240-488e-9ee2-dd0c5b957133",
   "metadata": {},
   "outputs": [
    {
     "data": {
      "text/plain": [
       "False"
      ]
     },
     "execution_count": 19,
     "metadata": {},
     "output_type": "execute_result"
    }
   ],
   "source": [
    "segment_uri.startswith('/')"
   ]
  },
  {
   "cell_type": "code",
   "execution_count": 20,
   "id": "9e3a8276-c778-450a-9e79-385a1d39963a",
   "metadata": {},
   "outputs": [],
   "source": [
    "base_url = m3u8_url.rsplit('/', 1)[0] + '/'"
   ]
  },
  {
   "cell_type": "code",
   "execution_count": 21,
   "id": "ddc6a85d-1c66-4762-8df9-24dd703995e9",
   "metadata": {},
   "outputs": [
    {
     "data": {
      "text/plain": [
       "'http://123.54.220.216:9901/tsfile/live/'"
      ]
     },
     "execution_count": 21,
     "metadata": {},
     "output_type": "execute_result"
    }
   ],
   "source": [
    "base_url"
   ]
  },
  {
   "cell_type": "code",
   "execution_count": 22,
   "id": "e2cad450-47f7-41af-acbe-add6a6a0e441",
   "metadata": {},
   "outputs": [],
   "source": [
    "segment_url = urljoin(base_url, segment_uri)"
   ]
  },
  {
   "cell_type": "code",
   "execution_count": 23,
   "id": "1b252c7f-d4b2-4cc1-9d5d-492d6e0cbf47",
   "metadata": {},
   "outputs": [
    {
     "data": {
      "text/plain": [
       "'http://123.54.220.216:9901/tsfile/live/live_1045_1_40085613.ts?key=txiptv&key2=40085613'"
      ]
     },
     "execution_count": 23,
     "metadata": {},
     "output_type": "execute_result"
    }
   ],
   "source": [
    "segment_url"
   ]
  },
  {
   "cell_type": "code",
   "execution_count": 24,
   "id": "64f835a8-b705-4285-b7e6-4e23c5abf11e",
   "metadata": {},
   "outputs": [],
   "source": [
    "response = requests.get(segment_url, stream=True, timeout=5)"
   ]
  },
  {
   "cell_type": "code",
   "execution_count": 25,
   "id": "fb1a0926-c8b1-4c58-aff7-e86e601c424b",
   "metadata": {},
   "outputs": [],
   "source": [
    "response.raise_for_status()"
   ]
  },
  {
   "cell_type": "code",
   "execution_count": 26,
   "id": "40f5e62a-614b-4e98-a0c0-c147a2ac3704",
   "metadata": {},
   "outputs": [
    {
     "data": {
      "text/plain": [
       "<Response [200]>"
      ]
     },
     "execution_count": 26,
     "metadata": {},
     "output_type": "execute_result"
    }
   ],
   "source": [
    "response"
   ]
  },
  {
   "cell_type": "code",
   "execution_count": 34,
   "id": "ecabed8f-177b-419c-a6b2-2fff9ee0db05",
   "metadata": {},
   "outputs": [
    {
     "name": "stdout",
     "output_type": "stream",
     "text": [
      "{'Content-Length': '5421920', 'Accept-Ranges': 'bytes', 'Connection': 'keep-alive', 'Content-Type': 'application/octet-stream;charset=UTF-8', 'Date': 'Tue, 26 Aug 2025 06:31:18 GMT', 'Keep-Alive': 'timeout=60', 'Last-Modified': 'Tue, 26 Aug 2025 06:31:04 GMT', 'Proxy-Connection': 'keep-alive'}\n"
     ]
    }
   ],
   "source": [
    "print(response.headers)"
   ]
  },
  {
   "cell_type": "code",
   "execution_count": 28,
   "id": "047257d2-34f1-4fd4-a68a-fd6354019dab",
   "metadata": {},
   "outputs": [],
   "source": [
    "content_length = int(response.headers.get('content-length', 0))"
   ]
  },
  {
   "cell_type": "code",
   "execution_count": 29,
   "id": "63ae25da-e846-4142-adeb-bae73cb7b064",
   "metadata": {},
   "outputs": [
    {
     "data": {
      "text/plain": [
       "5421920"
      ]
     },
     "execution_count": 29,
     "metadata": {},
     "output_type": "execute_result"
    }
   ],
   "source": [
    "content_length"
   ]
  },
  {
   "cell_type": "code",
   "execution_count": 31,
   "id": "6510b6e4-45cb-4037-97f9-0d5c44917163",
   "metadata": {},
   "outputs": [
    {
     "data": {
      "text/plain": [
       "3727140"
      ]
     },
     "execution_count": 31,
     "metadata": {},
     "output_type": "execute_result"
    }
   ],
   "source": [
    "len(response.content)"
   ]
  },
  {
   "cell_type": "code",
   "execution_count": 35,
   "id": "f3705091-75e0-4142-8010-5c4c739ff1c5",
   "metadata": {},
   "outputs": [
    {
     "data": {
      "text/plain": [
       "3543525"
      ]
     },
     "execution_count": 35,
     "metadata": {},
     "output_type": "execute_result"
    }
   ],
   "source": [
    "len(response.text)"
   ]
  },
  {
   "cell_type": "code",
   "execution_count": 32,
   "id": "e76edfb3-fb25-48f6-ac20-7cfb7b005433",
   "metadata": {},
   "outputs": [
    {
     "data": {
      "text/plain": [
       "False"
      ]
     },
     "execution_count": 32,
     "metadata": {},
     "output_type": "execute_result"
    }
   ],
   "source": [
    "'content-encoding' in response.headers"
   ]
  },
  {
   "cell_type": "code",
   "execution_count": 36,
   "id": "c19f1720-f7e2-41c3-beb5-2643db4943cd",
   "metadata": {},
   "outputs": [],
   "source": [
    "def test_m3u8_speed(m3u8_url, test_count=3):\n",
    "    \"\"\"\n",
    "    测试M3U8直播源的速度\n",
    "    \n",
    "    参数:\n",
    "    m3u8_url: M3U8直播源的URL\n",
    "    test_count: 测试次数，默认为3次\n",
    "    \n",
    "    返回:\n",
    "    平均速度(KB/s)，如果测试失败则返回None\n",
    "    \"\"\"\n",
    "    speeds = []\n",
    "    \n",
    "    try:\n",
    "        # 加载M3U8文件\n",
    "        playlist = m3u8.load(m3u8_url)\n",
    "        segments = playlist.segments\n",
    "        \n",
    "        if not segments:\n",
    "            print(\"错误: M3U8文件中没有找到视频段\")\n",
    "            return None\n",
    "        \n",
    "        # 构建基础URL（处理相对路径）\n",
    "        parsed_uri = urlparse(m3u8_url)\n",
    "        base_uri = f\"{parsed_uri.scheme}://{parsed_uri.netloc}\"\n",
    "        \n",
    "        for i in range(test_count):\n",
    "            # 选择一个视频段（循环使用可用段）\n",
    "            segment = segments[i % len(segments)]\n",
    "            segment_uri = segment.uri\n",
    "            \n",
    "            # 处理相对URL\n",
    "            if segment_uri.startswith('http'):\n",
    "                segment_url = segment_uri\n",
    "            elif segment_uri.startswith('/'):\n",
    "                segment_url = base_uri + segment_uri\n",
    "            else:\n",
    "                # 对于相对路径，使用M3U8文件所在目录作为基础\n",
    "                base_url = m3u8_url.rsplit('/', 1)[0] + '/'\n",
    "                segment_url = urljoin(base_url, segment_uri)\n",
    "            \n",
    "            # 测试下载速度\n",
    "            try:\n",
    "                start_time = time.time()\n",
    "                response = requests.get(segment_url, stream=True, timeout=5)\n",
    "                # response.raise_for_status()\n",
    "                if response.status_code != 200:\n",
    "                    return None\n",
    "                # 获取内容长度\n",
    "                content_length = len(response.content)\n",
    "                if content_length\n",
    "                \n",
    "                # 计算下载速度\n",
    "                download_time = time.time() - start_time\n",
    "                speed = content_length / download_time / 1024  # KB/s\n",
    "                speeds.append(speed)\n",
    "                \n",
    "                print(f\"测试 {i+1}: 速度 {speed:.2f} KB/s\")\n",
    "                \n",
    "            except Exception as e:\n",
    "                print(f\"测试 {i+1} 失败: {str(e)}\")\n",
    "                continue\n",
    "        \n",
    "        if not speeds:\n",
    "            print(\"所有测试都失败了\")\n",
    "            return None\n",
    "        \n",
    "        # 计算平均速度\n",
    "        avg_speed = sum(speeds) / len(speeds)\n",
    "        print(f\"平均速度: {avg_speed:.2f} KB/s\")\n",
    "        return avg_speed\n",
    "        \n",
    "    except Exception as e:\n",
    "        print(f\"测试过程中发生错误: {str(e)}\")\n",
    "        return None"
   ]
  },
  {
   "cell_type": "code",
   "execution_count": 37,
   "id": "8107ca90-1f05-4e96-90dd-2f588881e854",
   "metadata": {},
   "outputs": [
    {
     "name": "stdout",
     "output_type": "stream",
     "text": [
      "测试 1: 速度 500.31 KB/s\n",
      "测试 2: 速度 453.54 KB/s\n",
      "测试 3: 速度 467.73 KB/s\n",
      "平均速度: 473.86 KB/s\n"
     ]
    },
    {
     "data": {
      "text/plain": [
       "473.86066434443387"
      ]
     },
     "execution_count": 37,
     "metadata": {},
     "output_type": "execute_result"
    }
   ],
   "source": [
    "test_m3u8_speed(m3u8_url)"
   ]
  },
  {
   "cell_type": "code",
   "execution_count": 38,
   "id": "8d2020b8-4e61-469c-a4da-16489097c0aa",
   "metadata": {},
   "outputs": [
    {
     "data": {
      "text/plain": [
       "5.0"
      ]
     },
     "execution_count": 38,
     "metadata": {},
     "output_type": "execute_result"
    }
   ],
   "source": [
    "segment.duration"
   ]
  },
  {
   "cell_type": "code",
   "execution_count": null,
   "id": "cd8f1918-ae1a-42be-985a-59f24fda68a3",
   "metadata": {},
   "outputs": [],
   "source": []
  }
 ],
 "metadata": {
  "kernelspec": {
   "display_name": "Python 3 (ipykernel)",
   "language": "python",
   "name": "python3"
  },
  "language_info": {
   "codemirror_mode": {
    "name": "ipython",
    "version": 3
   },
   "file_extension": ".py",
   "mimetype": "text/x-python",
   "name": "python",
   "nbconvert_exporter": "python",
   "pygments_lexer": "ipython3",
   "version": "3.11.11"
  },
  "widgets": {
   "application/vnd.jupyter.widget-state+json": {
    "state": {},
    "version_major": 2,
    "version_minor": 0
   }
  }
 },
 "nbformat": 4,
 "nbformat_minor": 5
}
